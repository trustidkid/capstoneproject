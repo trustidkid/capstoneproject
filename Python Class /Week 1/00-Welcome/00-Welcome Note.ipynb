{
 "cells": [
  {
   "cell_type": "markdown",
   "metadata": {},
   "source": [
    "<a href='https://www.altschoolafrica.com/'><img src=\"altschool.jpeg\"></a>\n",
    "___"
   ]
  },
  {
   "cell_type": "markdown",
   "metadata": {},
   "source": [
    "## BIG DATA WITH PYTHON\n",
    "\n",
    "`Yes you made it!`\n",
    "\n",
    "### Road Map\n",
    "\n",
    "The road map to Big Data with Python will be sectioned into five(5) part;\n",
    "1. Python Crash course (Week 1)\n",
    "\n",
    "2. Python for Data Science and Machine Learning (Week 2)\n",
    "\n",
    "2b. Data Collection/ Webscrapping with BeautifulSoup (Optional)\n",
    "\n",
    "\n",
    "#### 1.  Python Programming Crash course\n",
    "▪ Variable\n",
    "<br>▪ Data types</br>\n",
    "<br>▪ Functions</br>\n",
    "<br>▪ List, tuple, dictionary</br>\n",
    "\n",
    "##### <b>Project 1</b>\n",
    "\n",
    "#### 2. Python for Data Engineering\n",
    "Python for Data Science Toolkit\n",
    "<br>▪ Manipulating Data using NumPy</br>\n",
    "<br>▪ Data Wrangling with Pandas</br>\n",
    "<br>▪ Lambda function</br>\n",
    "\n",
    "##### <b>Python Hackathon/ Project 2</b>\n",
    "\n",
    "#### 3. Data Collection/ Webscrapping with BeautifulSoup\n",
    "Regular Expression\n",
    "<br>▪ Working with JSON file</br>\n",
    "<br>▪ Beautiful Soup and get Request library for web scrapping</br>\n",
    "\n",
    "##### Weather Forecast Website Project (Inclass Practise)\n"
   ]
  },
  {
   "cell_type": "code",
   "execution_count": null,
   "metadata": {},
   "outputs": [],
   "source": []
  }
 ],
 "metadata": {
  "kernelspec": {
   "display_name": "Python 3",
   "language": "python",
   "name": "python3"
  },
  "language_info": {
   "codemirror_mode": {
    "name": "ipython",
    "version": 3
   },
   "file_extension": ".py",
   "mimetype": "text/x-python",
   "name": "python",
   "nbconvert_exporter": "python",
   "pygments_lexer": "ipython3",
   "version": "3.8.8"
  }
 },
 "nbformat": 4,
 "nbformat_minor": 1
}
